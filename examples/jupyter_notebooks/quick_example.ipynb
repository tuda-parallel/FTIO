{
 "cells": [
  {
   "cell_type": "code",
   "execution_count": 2,
   "id": "4ec0fb63-1589-4f88-b8af-a45c49ef57ea",
   "metadata": {},
   "outputs": [
    {
     "data": {
      "text/html": [
       "<pre style=\"white-space:pre;overflow-x:auto;line-height:normal;font-family:Menlo,'DejaVu Sans Mono',consolas,'Courier New',monospace\"><span style=\"color: #008080; text-decoration-color: #008080; text-decoration: underline\">Prediction results:</span>\n",
       "<span style=\"color: #008080; text-decoration-color: #008080\">Frequency:</span> <span style=\"color: #008080; text-decoration-color: #008080; font-weight: bold\">4.615e-02</span> Hz<span style=\"color: #008080; text-decoration-color: #008080\"> -&gt;</span> <span style=\"color: #008080; text-decoration-color: #008080; font-weight: bold\">21.6667</span> s\n",
       "<span style=\"color: #008080; text-decoration-color: #008080\">Confidence:</span> <span style=\"color: #008000; text-decoration-color: #008000; font-weight: bold\">80.25</span> %\n",
       "\n",
       "</pre>\n"
      ],
      "text/plain": [
       "\u001b[4;36mPrediction results:\u001b[0m\n",
       "\u001b[36mFrequency:\u001b[0m \u001b[1;36m4.615e-02\u001b[0m Hz\u001b[36m ->\u001b[0m \u001b[1;36m21.6667\u001b[0m s\n",
       "\u001b[36mConfidence:\u001b[0m \u001b[1;32m80.25\u001b[0m %\n",
       "\n"
      ]
     },
     "metadata": {},
     "output_type": "display_data"
    }
   ],
   "source": [
    "import numpy as np\n",
    "from ftio.cli.ftio_core import core\n",
    "from ftio.parse.args import parse_args\n",
    "from ftio.freq._dft import display_prediction\n",
    "from ftio.plot.freq_plot import convert_and_plot\n",
    "from ftio.parse.bandwidth import overlap\n",
    "\n",
    "ranks = 10\n",
    "total_bytes = 100\n",
    "\n",
    "# Set up data\n",
    "## 1) overlap for rank level metrics\n",
    "b_rank   = [0.0,0.0,1000.0,1000.0,0.0,0.0,1000.0,1000.0,0.0,0.0,1000.0,1000.0,0.0,0.0]\n",
    "t_rank_s = [0.5,0.0,10.5,10.0,20.5,20.0,30.5,30.0,40.5,40.0,50.5,50.0,60.5,60]\n",
    "t_rank_e = [5.0,4.5,15.0,14.5,25.0,24.5,35.0,34.5,45.0,44.5,55.0,54.5,65.0,64.5]\n",
    "b,t = overlap(b_rank,t_rank_s, t_rank_e)\n",
    "\n",
    "# ## 2) or directly specify the app level metrics\n",
    "# t = [10.0, 20.1, 30.0, 40.2, 50.3, 60, 70, 80.0,]\n",
    "# b = [10, 0, 10, 0, 10, 0, 10, 0]\n",
    "\n",
    "\n",
    "# command line arguments\n",
    "argv = [\"-e\", \"no\"]\n",
    "\n",
    "# set up data\n",
    "data = {\n",
    "        \"time\": np.array(t),\n",
    "        \"bandwidth\": np.array(b),\n",
    "        \"total_bytes\": total_bytes,\n",
    "        \"ranks\": ranks \n",
    "        }\n",
    "\n",
    "#parse args\n",
    "args = parse_args(argv,\"ftio\")\n",
    "\n",
    "# perform prediction\n",
    "prediction, dfs = core([data], args)\n",
    "\n",
    "#display prediction\n",
    "display_prediction(\"ftio\", prediction)"
   ]
  }
 ],
 "metadata": {
  "kernelspec": {
   "display_name": "Python 3 (ipykernel)",
   "language": "python",
   "name": "python3"
  },
  "language_info": {
   "codemirror_mode": {
    "name": "ipython",
    "version": 3
   },
   "file_extension": ".py",
   "mimetype": "text/x-python",
   "name": "python",
   "nbconvert_exporter": "python",
   "pygments_lexer": "ipython3",
   "version": "3.11.6"
  }
 },
 "nbformat": 4,
 "nbformat_minor": 5
}
