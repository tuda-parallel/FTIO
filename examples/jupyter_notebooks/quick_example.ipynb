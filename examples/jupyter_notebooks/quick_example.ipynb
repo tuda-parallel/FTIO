{
 "cells": [
  {
   "cell_type": "code",
   "execution_count": null,
   "id": "0",
   "metadata": {},
   "outputs": [],
   "source": [
    "import numpy as np\n",
    "from ftio.cli.ftio_core import core\n",
    "from ftio.parse.args import parse_args\n",
    "from ftio.freq._dft import display_prediction\n",
    "from ftio.plot.freq_plot import convert_and_plot\n",
    "from ftio.parse.bandwidth import overlap\n",
    "\n",
    "ranks = 10\n",
    "total_bytes = 100\n",
    "\n",
    "# Set up data\n",
    "## 1) overlap for rank level metrics\n",
    "b_rank   = [0.0,0.0,1000.0,1000.0,0.0,0.0,1000.0,1000.0,0.0,0.0,1000.0,1000.0,0.0,0.0]\n",
    "t_rank_s = [0.5,0.0,10.5,10.0,20.5,20.0,30.5,30.0,40.5,40.0,50.5,50.0,60.5,60]\n",
    "t_rank_e = [5.0,4.5,15.0,14.5,25.0,24.5,35.0,34.5,45.0,44.5,55.0,54.5,65.0,64.5]\n",
    "b,t = overlap(b_rank,t_rank_s, t_rank_e)\n",
    "\n",
    "# ## 2) or directly specify the app level metrics\n",
    "# t = [10.0, 20.1, 30.0, 40.2, 50.3, 60, 70, 80.0,]\n",
    "# b = [10, 0, 10, 0, 10, 0, 10, 0]\n",
    "\n",
    "\n",
    "# command line arguments\n",
    "argv = [\"-e\", \"no\"]\n",
    "\n",
    "# set up data\n",
    "data = {\n",
    "        \"time\": np.array(t),\n",
    "        \"bandwidth\": np.array(b),\n",
    "        \"total_bytes\": total_bytes,\n",
    "        \"ranks\": ranks \n",
    "        }\n",
    "\n",
    "#parse args\n",
    "args = parse_args(argv,\"ftio\")\n",
    "\n",
    "# perform prediction\n",
    "prediction, dfs = core([data], args)\n",
    "\n",
    "#display prediction\n",
    "display_prediction(\"ftio\", prediction)"
   ]
  }
 ],
 "metadata": {
  "kernelspec": {
   "display_name": "Python 3 (ipykernel)",
   "language": "python",
   "name": "python3"
  },
  "language_info": {
   "codemirror_mode": {
    "name": "ipython",
    "version": 3
   },
   "file_extension": ".py",
   "mimetype": "text/x-python",
   "name": "python",
   "nbconvert_exporter": "python",
   "pygments_lexer": "ipython3",
   "version": "3.11.6"
  }
 },
 "nbformat": 4,
 "nbformat_minor": 5
}
